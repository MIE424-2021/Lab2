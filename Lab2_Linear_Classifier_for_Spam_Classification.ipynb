{
 "cells": [
  {
   "cell_type": "markdown",
   "metadata": {},
   "source": [
    "## MIE424 (2021 Winter) Lab 2\n",
    "\n",
    "Yuehuan He and Jake Mosseri \n",
    "\n",
    "In this lab, you will be using linear classifier to build a spam classifier. \n",
    "\n",
    "Many email services today provide spam filters that are able to classify emails into spam and non-spam email with high accuracy. You will use linear classifier to build your own spam filter.\n",
    "\n",
    "You will be training a classifier to classify whether a given email, $x$, is spam ($y = 1$) or non-spam ($y = 0$). In particular, you need to convert each email into a feature vector $x \\in R^n$. The following parts of the lab will walk you through how such a feature vector can be constructed from an email.\n",
    "\n",
    "Dataset used:\n",
    "\n",
    "- spamTrain.mat - Spam training set\n",
    "- spamTest.mat - Spam test set\n",
    "\n",
    "\n",
    "\n",
    "The dataset has been processed using the following feature extraction. n = # words in vocabulary list. Specifically, the feature $x_i \\in \\{0, 1\\}$ for an email corresponds to whether the $i$-th word in the dictionary occurs in the email. That is, $x_i = 1$ if the $i$-th word is in the email and $x_i$ = 0 if the $i$-th word is not present in the email.\n"
   ]
  },
  {
   "cell_type": "markdown",
   "metadata": {},
   "source": [
    "\n",
    "Preprocessing process:\n",
    "\n",
    "-  Lower-casing: The entire email is converted into lower case, so that captialization is ignored (e.g., IndIcaTE is treated the same as Indicate).\n",
    "- Stripping HTML: All HTML tags are removed from the emails. Many emails often come with HTML formatting; we remove all the HTML tags, so that only the content remains.\n",
    "- Normalizing URLs: All URLs are replaced with the text “httpaddr”.\n",
    "- Normalizing Email Addresses: All email addresses are replaced with the text “emailaddr”.\n",
    "- Normalizing Numbers: All numbers are replaced with the text “number”.\n",
    "- Normalizing Dollars: All dollar signs are replaced with the text “dollar”.\n",
    "- Word Stemming: Words are reduced to their stemmed form. For ex- ample, “discount”, “discounts”, “discounted” and “discounting” are all replaced with “discount”. Sometimes, the Stemmer actually strips off additional characters from the end, so “include”, “includes”, “included”, and “including” are all replaced with “includ”.\n",
    "- Removal of non-words: Non-words and punctuation have been re- moved. All white spaces (tabs, newlines, spaces) have all been trimmed to a single space character.\n",
    "\n",
    "After preprocessing the emails, we have a list of words for each email. The next step is to choose which words we would like to use in our classifier and which we would want to leave out.\n",
    "\n",
    "For this example, we have chosen only the most frequently occuring words as our set of words considered (the vocabulary list). Since words that occur rarely in the training set are only in a few emails, they might cause the model to overfit our training set. The complete vocabulary list is in the file vocab.txt and also shown in the figure below. Our vocabulary list was selected by choosing all words which occur at least a 100 times in the spam corpus, resulting in a list of 1899 words. In practice, a vocabulary list with about 10,000 to 50,000 words is often used.\n"
   ]
  },
  {
   "cell_type": "markdown",
   "metadata": {},
   "source": [
    "![Encoding process](img/encoding.png)"
   ]
  },
  {
   "cell_type": "markdown",
   "metadata": {},
   "source": [
    "\n",
    "Given the vocabulary list, we can now map each word in the preprocessed emails into a list of word indices that contains the index of the word in the vocabulary list. The following figure shows the mapping for the sample email. Specifically, in the sample email, the word “anyone” was first normalized to “anyon” and then mapped onto the index 86 in the vocabulary list.\n",
    "\n",
    "\n"
   ]
  },
  {
   "cell_type": "markdown",
   "metadata": {},
   "source": [
    "![Encoded datapoint](img/encodedx.png)"
   ]
  },
  {
   "cell_type": "markdown",
   "metadata": {},
   "source": [
    "### Load Necessary Libraries"
   ]
  },
  {
   "cell_type": "code",
   "execution_count": 2,
   "metadata": {},
   "outputs": [],
   "source": [
    "try:\n",
    "    import nltk\n",
    "except ImportError:\n",
    "    !pip install nltk\n",
    "    import nltk\n",
    "import numpy as np\n",
    "from sklearn.linear_model import SGDClassifier\n",
    "from sklearn.preprocessing import StandardScaler\n",
    "from sklearn.pipeline import make_pipeline\n",
    "\n",
    "from scipy.io import loadmat"
   ]
  },
  {
   "cell_type": "markdown",
   "metadata": {},
   "source": [
    "### Import Dataset"
   ]
  },
  {
   "cell_type": "markdown",
   "metadata": {},
   "source": [
    "Now we load a preprocessed training dataset that will be used to train a linear classifier. spamTrain.mat contains training examples of spam and non-spam email, while spamTest.mat contains test examples. Each original email was processed and converted into a vector $x_{(i)} \\in R^{1899}$.\n"
   ]
  },
  {
   "cell_type": "code",
   "execution_count": 2,
   "metadata": {},
   "outputs": [],
   "source": [
    "# Load the Spam Email dataset\n",
    "train_data = loadmat('spamTrain.mat')\n",
    "test_data = loadmat('spamTest.mat')\n",
    "X_train = train_data['X']\n",
    "Y_train = train_data['y'].ravel()\n",
    "X_test  = test_data['Xtest']\n",
    "Y_test  = test_data['ytest'].ravel()"
   ]
  },
  {
   "cell_type": "code",
   "execution_count": 3,
   "metadata": {},
   "outputs": [],
   "source": [
    "# Load vocabulary list:\n",
    "vocabulary = []\n",
    "with open('vocab.txt') as f:\n",
    "    for line in f:\n",
    "        idx, word = line.split('\\t')\n",
    "        vocabulary.append(word.strip())"
   ]
  },
  {
   "cell_type": "markdown",
   "metadata": {},
   "source": [
    "Consider the following example email: \n",
    "\n",
    "*Anyone knows how much it costs to host a web portal ?*\n",
    "*Well, it depends on how many visitors youre expecting. This can be anywhere from less than 10 bucks a month to a couple of 100. You should checkout http://www.rackspace.com/ or perhaps Amazon EC2 if youre running something big..*\n",
    "*To unsubscribe yourself from this mailing list, send an email to:\n",
    "groupname-unsubscribe@egroups.com*\n",
    "\n",
    "The encoded representation of this email is given in the first figure:\n",
    "\n",
    "[86, 916, 794, 1077, ...]\n",
    "\n",
    "To check this:"
   ]
  },
  {
   "cell_type": "code",
   "execution_count": 4,
   "metadata": {},
   "outputs": [
    {
     "data": {
      "text/plain": [
       "'anyon'"
      ]
     },
     "execution_count": 4,
     "metadata": {},
     "output_type": "execute_result"
    }
   ],
   "source": [
    "vocabulary[85]"
   ]
  },
  {
   "cell_type": "code",
   "execution_count": 5,
   "metadata": {},
   "outputs": [
    {
     "data": {
      "text/plain": [
       "'know'"
      ]
     },
     "execution_count": 5,
     "metadata": {},
     "output_type": "execute_result"
    }
   ],
   "source": [
    "vocabulary[915]"
   ]
  },
  {
   "cell_type": "markdown",
   "metadata": {},
   "source": [
    "Recap from Lab 1:\n",
    "\n",
    "- How to find the size of training set and test set?"
   ]
  },
  {
   "cell_type": "code",
   "execution_count": 6,
   "metadata": {},
   "outputs": [
    {
     "name": "stdout",
     "output_type": "stream",
     "text": [
      "There are 4000 training examples and 1000 test examples\n"
     ]
    }
   ],
   "source": [
    "print('There are',X_train.shape[0],'training examples and',X_test.shape[0],'test examples')"
   ]
  },
  {
   "cell_type": "markdown",
   "metadata": {},
   "source": [
    "### Construct and Train a Linear Classifier"
   ]
  },
  {
   "cell_type": "markdown",
   "metadata": {},
   "source": [
    "After loading the dataset, we then proceed to train a linear classifier with hinge loss to classify between spam ($y = 1$) and non-spam ($y = 0$) emails."
   ]
  },
  {
   "cell_type": "markdown",
   "metadata": {},
   "source": [
    "Here we use the `SGDClassifier` in sklearn package to construct and train a linear classifier:\n",
    "\n",
    "class sklearn.linear_model.SGDClassifier(loss='hinge', *, penalty='l2', alpha=0.0001, l1_ratio=0.15, fit_intercept=True, max_iter=1000, tol=0.001, shuffle=True, verbose=0, epsilon=0.1, n_jobs=None, random_state=None, learning_rate='optimal', eta0=0.0, power_t=0.5, early_stopping=False, validation_fraction=0.1, n_iter_no_change=5, class_weight=None, warm_start=False, average=False)\n",
    "\n",
    "Parameters:\n",
    "\n",
    "- **loss**: str, default=’hinge’\n",
    "    - The loss function to be used. Defaults to ‘hinge’.\n",
    "    - The possible options are ‘hinge’, ‘squared_hinge’, etc.\n",
    "- **penalty**: {‘l2’, ‘l1’, ‘elasticnet’}, default=’l2’\n",
    "    - The penalty (aka regularization term) to be used. Defaults to ‘l2’ which is the standard regularizer for linear SVM models. ‘l1’ and ‘elasticnet’ might bring sparsity to the model (feature selection) not achievable with ‘l2’.\n",
    "- **alpha**: float, default=0.0001\n",
    "    - Constant that multiplies the regularization term. The higher the value, the stronger the regularization. \n",
    "\n",
    "\n",
    "See more in its [documentation](https://scikit-learn.org/stable/modules/generated/sklearn.linear_model.SGDClassifier.html#sklearn.linear_model.SGDClassifier)\n",
    "\n"
   ]
  },
  {
   "cell_type": "code",
   "execution_count": 7,
   "metadata": {},
   "outputs": [],
   "source": [
    "clf = make_pipeline(StandardScaler(),SGDClassifier(alpha=0,learning_rate='invscaling',eta0=0.01,verbose=1))\n",
    "\n",
    "# Here alpha = 0 is used to not apply any penalty. Learning rate then cannot take the default value 'optimal'\n",
    "# and an initial stepsize needs to be specified."
   ]
  },
  {
   "cell_type": "code",
   "execution_count": 8,
   "metadata": {},
   "outputs": [
    {
     "name": "stdout",
     "output_type": "stream",
     "text": [
      "-- Epoch 1\n",
      "Norm: 0.89, NNZs: 1895, Bias: -0.203625, T: 4000, Avg. loss: 0.155137\n",
      "Total training time: 0.01 seconds.\n",
      "-- Epoch 2\n",
      "Norm: 0.92, NNZs: 1895, Bias: -0.228109, T: 8000, Avg. loss: 0.069924\n",
      "Total training time: 0.02 seconds.\n",
      "-- Epoch 3\n",
      "Norm: 0.93, NNZs: 1895, Bias: -0.239498, T: 12000, Avg. loss: 0.053908\n",
      "Total training time: 0.04 seconds.\n",
      "-- Epoch 4\n",
      "Norm: 0.95, NNZs: 1895, Bias: -0.247966, T: 16000, Avg. loss: 0.045720\n",
      "Total training time: 0.05 seconds.\n",
      "-- Epoch 5\n",
      "Norm: 0.96, NNZs: 1895, Bias: -0.254312, T: 20000, Avg. loss: 0.040352\n",
      "Total training time: 0.06 seconds.\n",
      "-- Epoch 6\n",
      "Norm: 0.97, NNZs: 1895, Bias: -0.258811, T: 24000, Avg. loss: 0.036693\n",
      "Total training time: 0.07 seconds.\n",
      "-- Epoch 7\n",
      "Norm: 0.98, NNZs: 1895, Bias: -0.262675, T: 28000, Avg. loss: 0.033925\n",
      "Total training time: 0.08 seconds.\n",
      "-- Epoch 8\n",
      "Norm: 0.98, NNZs: 1895, Bias: -0.265967, T: 32000, Avg. loss: 0.031756\n",
      "Total training time: 0.09 seconds.\n",
      "-- Epoch 9\n",
      "Norm: 0.99, NNZs: 1895, Bias: -0.268194, T: 36000, Avg. loss: 0.029822\n",
      "Total training time: 0.10 seconds.\n",
      "-- Epoch 10\n",
      "Norm: 1.00, NNZs: 1895, Bias: -0.270811, T: 40000, Avg. loss: 0.028306\n",
      "Total training time: 0.11 seconds.\n",
      "-- Epoch 11\n",
      "Norm: 1.00, NNZs: 1895, Bias: -0.272617, T: 44000, Avg. loss: 0.026971\n",
      "Total training time: 0.12 seconds.\n",
      "-- Epoch 12\n",
      "Norm: 1.01, NNZs: 1895, Bias: -0.274769, T: 48000, Avg. loss: 0.025834\n",
      "Total training time: 0.13 seconds.\n",
      "-- Epoch 13\n",
      "Norm: 1.01, NNZs: 1895, Bias: -0.276419, T: 52000, Avg. loss: 0.024771\n",
      "Total training time: 0.15 seconds.\n",
      "-- Epoch 14\n",
      "Norm: 1.02, NNZs: 1895, Bias: -0.277375, T: 56000, Avg. loss: 0.023855\n",
      "Total training time: 0.16 seconds.\n",
      "-- Epoch 15\n",
      "Norm: 1.02, NNZs: 1895, Bias: -0.278999, T: 60000, Avg. loss: 0.023091\n",
      "Total training time: 0.17 seconds.\n",
      "-- Epoch 16\n",
      "Norm: 1.03, NNZs: 1895, Bias: -0.280366, T: 64000, Avg. loss: 0.022192\n",
      "Total training time: 0.18 seconds.\n",
      "-- Epoch 17\n",
      "Norm: 1.03, NNZs: 1895, Bias: -0.281379, T: 68000, Avg. loss: 0.021625\n",
      "Total training time: 0.19 seconds.\n",
      "-- Epoch 18\n",
      "Norm: 1.03, NNZs: 1895, Bias: -0.283114, T: 72000, Avg. loss: 0.020929\n",
      "Total training time: 0.20 seconds.\n",
      "Convergence after 18 epochs took 0.20 seconds\n"
     ]
    },
    {
     "data": {
      "text/plain": [
       "Pipeline(steps=[('standardscaler', StandardScaler()),\n",
       "                ('sgdclassifier',\n",
       "                 SGDClassifier(alpha=0, eta0=0.01, learning_rate='invscaling',\n",
       "                               verbose=1))])"
      ]
     },
     "execution_count": 8,
     "metadata": {},
     "output_type": "execute_result"
    }
   ],
   "source": [
    "clf.fit(X_train, Y_train)"
   ]
  },
  {
   "cell_type": "markdown",
   "metadata": {},
   "source": [
    "### Evaluate the fitted model"
   ]
  },
  {
   "cell_type": "code",
   "execution_count": 9,
   "metadata": {},
   "outputs": [
    {
     "name": "stdout",
     "output_type": "stream",
     "text": [
      "Train Accuracy: 99.35000000000001 %\n"
     ]
    }
   ],
   "source": [
    "# Training accuracy\n",
    "prediction_train = clf.predict(X_train)\n",
    "print ('Train Accuracy:', np.mean(prediction_train == Y_train) * 100,'%')"
   ]
  },
  {
   "cell_type": "code",
   "execution_count": 10,
   "metadata": {},
   "outputs": [
    {
     "name": "stdout",
     "output_type": "stream",
     "text": [
      "Test Accuracy: 98.0 %\n"
     ]
    }
   ],
   "source": [
    "# Test accuracy\n",
    "prediction_test = clf.predict(X_test)\n",
    "print ('Test Accuracy:', np.mean(prediction_test == Y_test) * 100,'%')"
   ]
  },
  {
   "cell_type": "markdown",
   "metadata": {},
   "source": [
    "### Discussion"
   ]
  },
  {
   "cell_type": "markdown",
   "metadata": {},
   "source": [
    "To better understand how the spam classifier works, we can inspect the parameters to see which words the classifier thinks are the most predictive of spam. The next step of this lab finds the parameters with the largest positive values in the classifier and displays the corresponding words. Thus, if an email contains words such as “click”, “remove”, “gurantee” etc., it is likely to be classified as spam."
   ]
  },
  {
   "cell_type": "code",
   "execution_count": 11,
   "metadata": {},
   "outputs": [
    {
     "name": "stdout",
     "output_type": "stream",
     "text": [
      "Top predictors of spam:\n",
      "click 0.15901720423151255\n",
      "remov 0.1388167927331402\n",
      "our 0.12610588373517392\n",
      "pleas 0.12048564555028425\n",
      "guarante 0.10824668012348992\n",
      "here 0.10682951252845208\n",
      "basenumb 0.10501774129721947\n",
      "opt 0.10378550130227342\n",
      "nbsp 0.09059284919957059\n",
      "you 0.0903798905989363\n",
      "credit 0.08933330452503457\n",
      "monthli 0.08498193817992589\n",
      "dollar 0.08391510953575806\n",
      "your 0.08017809026538159\n",
      "paid 0.07902300282602404\n"
     ]
    }
   ],
   "source": [
    "coef = clf.named_steps['sgdclassifier'].coef_.ravel()\n",
    "idx  = coef.argsort()[::-1].ravel()\n",
    "print ('Top predictors of spam:')\n",
    "for i in range(15):\n",
    "    print (vocabulary[idx[i]], coef[idx[i]])"
   ]
  },
  {
   "cell_type": "markdown",
   "metadata": {},
   "source": [
    "Exercise:\n",
    "- try train the model with other loss functions;\n",
    "- find an email of your own and see if the fitted model can classify it correctly (the following helper functions might be useful in preprocessing your email content)\n",
    "- train the model with a subset of the training data and see how the test accuracies compare, e.g. with 100% of training data vs with 50%."
   ]
  },
  {
   "cell_type": "code",
   "execution_count": 14,
   "metadata": {},
   "outputs": [],
   "source": [
    "import re\n",
    "from nltk import PorterStemmer\n",
    "\n",
    "def split(delimiters, string, maxsplit=0):\n",
    "    pattern = '|'.join(map(re.escape, delimiters))\n",
    "    return re.split(pattern, string, maxsplit)\n",
    "\n",
    "def process_email(email_contents,vocabulary):\n",
    "    \"\"\"\n",
    "    Preprocesses a the body of an email and returns a list of word indices.\n",
    "    Parameters\n",
    "    ----------\n",
    "    email_contents : string\n",
    "        The email content.\n",
    "    Returns\n",
    "    -------\n",
    "    list\n",
    "        A list of word indices.\n",
    "    \"\"\"\n",
    "    email_contents = email_contents.lower()\n",
    "    email_contents = re.sub('<[^<>]+>', ' ', email_contents)\n",
    "    email_contents = re.sub('[0-9]+', 'number', email_contents)\n",
    "    email_contents = re.sub('(http|https)://[^\\s]*', 'httpaddr', email_contents)\n",
    "    email_contents = re.sub('[^\\s]+@[^\\s]+', 'emailaddr', email_contents)\n",
    "    email_contents = re.sub('[$]+', 'dollar', email_contents)\n",
    "\n",
    "    words = split(\"\"\" @$/#.-:&*+=[]?!(){},'\">_<;%\\n\\r\"\"\", email_contents)\n",
    "    word_indices = []\n",
    "    stemmer = PorterStemmer()\n",
    "    for word in words:\n",
    "        word = re.sub('[^a-zA-Z0-9]', '', word)\n",
    "        if word == '':\n",
    "            continue\n",
    "        word = stemmer.stem(word)\n",
    "        if word in vocabulary:\n",
    "            idx = vocabulary.index(word)\n",
    "            word_indices.append(idx)\n",
    "\n",
    "    return word_indices"
   ]
  },
  {
   "cell_type": "markdown",
   "metadata": {},
   "source": [
    "Acknowledgements:\n",
    "\n",
    "Adopted from problem set and course materials in Stanford CS229 and [nex3z](https://github.com/nex3z) implementation in python."
   ]
  },
  {
   "cell_type": "code",
   "execution_count": null,
   "metadata": {},
   "outputs": [],
   "source": []
  }
 ],
 "metadata": {
  "kernelspec": {
   "display_name": "Python 3",
   "language": "python",
   "name": "python3"
  },
  "language_info": {
   "codemirror_mode": {
    "name": "ipython",
    "version": 3
   },
   "file_extension": ".py",
   "mimetype": "text/x-python",
   "name": "python",
   "nbconvert_exporter": "python",
   "pygments_lexer": "ipython3",
   "version": "3.8.5"
  }
 },
 "nbformat": 4,
 "nbformat_minor": 4
}
